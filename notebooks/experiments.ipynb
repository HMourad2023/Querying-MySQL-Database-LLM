{
 "cells": [
  {
   "cell_type": "code",
   "execution_count": 10,
   "metadata": {},
   "outputs": [],
   "source": [
    "from dotenv import load_dotenv\n",
    "import os\n",
    "import warnings\n",
    "warnings.filterwarnings(\"ignore\")\n",
    "\n",
    "def load_env():\n",
    "    if load_dotenv():\n",
    "        print(\"Environment variables loaded successfully.\")\n",
    "    else:\n",
    "        print(\"Failed to load environment variables.\")"
   ]
  },
  {
   "cell_type": "code",
   "execution_count": 11,
   "metadata": {},
   "outputs": [],
   "source": [
    "DB_HOST = os.getenv(\"DB_HOST\")\n",
    "DB_PORT = os.getenv(\"DB_PORT\")\n",
    "DB_USER = os.getenv(\"DB_USER\")\n",
    "DB_PASSWORD = os.getenv(\"DB_PASSWORD\")\n",
    "DB_NAME = os.getenv(\"DB_NAME\")"
   ]
  },
  {
   "cell_type": "code",
   "execution_count": 12,
   "metadata": {},
   "outputs": [],
   "source": [
    "import mysql.connector\n",
    "from mysql.connector import Error\n",
    "\n",
    "def connect_to_mysql(DB_USER,DB_HOST,DB_PORT,DB_PASSWORD,DB_NAME):\n",
    "    try:\n",
    "        connection = mysql.connector.connect(host = DB_HOST,\n",
    "                             port = DB_PORT,\n",
    "                             user = DB_USER,\n",
    "                             password = DB_PASSWORD,\n",
    "                             database = DB_NAME)\n",
    "        if connection.is_connected():\n",
    "            print(\"Connection réussie !\")\n",
    "            return connection\n",
    "        else:\n",
    "            print(\"Échec de la connexion.\")\n",
    "            return None\n",
    "    except Error as e:\n",
    "        print(f\"Erreur: {e}\")\n",
    "        return None"
   ]
  },
  {
   "cell_type": "code",
   "execution_count": 13,
   "metadata": {},
   "outputs": [
    {
     "name": "stdout",
     "output_type": "stream",
     "text": [
      "Connection réussie !\n"
     ]
    }
   ],
   "source": [
    "connection = connect_to_mysql(DB_USER, DB_HOST, DB_PORT, DB_PASSWORD, DB_NAME)"
   ]
  },
  {
   "cell_type": "code",
   "execution_count": 14,
   "metadata": {},
   "outputs": [],
   "source": [
    "import pandas as pd\n",
    "def fetch_data_from_sql(query, connection):\n",
    "    df = pd.read_sql_query(query, connection)\n",
    "    connection.close()\n",
    "    return df"
   ]
  },
  {
   "cell_type": "code",
   "execution_count": 15,
   "metadata": {},
   "outputs": [],
   "source": [
    "query = \"SELECT * FROM airline_delay limit 100\""
   ]
  },
  {
   "cell_type": "code",
   "execution_count": 16,
   "metadata": {},
   "outputs": [],
   "source": [
    "df = fetch_data_from_sql(query,connection=connection)"
   ]
  },
  {
   "cell_type": "code",
   "execution_count": 17,
   "metadata": {},
   "outputs": [
    {
     "data": {
      "text/html": [
       "<div>\n",
       "<style scoped>\n",
       "    .dataframe tbody tr th:only-of-type {\n",
       "        vertical-align: middle;\n",
       "    }\n",
       "\n",
       "    .dataframe tbody tr th {\n",
       "        vertical-align: top;\n",
       "    }\n",
       "\n",
       "    .dataframe thead th {\n",
       "        text-align: right;\n",
       "    }\n",
       "</style>\n",
       "<table border=\"1\" class=\"dataframe\">\n",
       "  <thead>\n",
       "    <tr style=\"text-align: right;\">\n",
       "      <th></th>\n",
       "      <th>year</th>\n",
       "      <th>month</th>\n",
       "      <th>carrier</th>\n",
       "      <th>carrier_name</th>\n",
       "      <th>airport</th>\n",
       "      <th>airport_name</th>\n",
       "      <th>arr_flights</th>\n",
       "      <th>arr_del15</th>\n",
       "      <th>carrier_ct</th>\n",
       "      <th>weather_ct</th>\n",
       "      <th>...</th>\n",
       "      <th>security_ct</th>\n",
       "      <th>late_aircraft_ct</th>\n",
       "      <th>arr_cancelled</th>\n",
       "      <th>arr_diverted</th>\n",
       "      <th>arr_delay</th>\n",
       "      <th>carrier_delay</th>\n",
       "      <th>weather_delay</th>\n",
       "      <th>nas_delay</th>\n",
       "      <th>security_delay</th>\n",
       "      <th>late_aircraft_delay</th>\n",
       "    </tr>\n",
       "  </thead>\n",
       "  <tbody>\n",
       "    <tr>\n",
       "      <th>0</th>\n",
       "      <td>2020</td>\n",
       "      <td>12</td>\n",
       "      <td>9E</td>\n",
       "      <td>Endeavor Air Inc.</td>\n",
       "      <td>ABE</td>\n",
       "      <td>Allentown/Bethlehem/Easton, PA: Lehigh Valley ...</td>\n",
       "      <td>44</td>\n",
       "      <td>3</td>\n",
       "      <td>1.63</td>\n",
       "      <td>0</td>\n",
       "      <td>...</td>\n",
       "      <td>0</td>\n",
       "      <td>1.25</td>\n",
       "      <td>0</td>\n",
       "      <td>1</td>\n",
       "      <td>89</td>\n",
       "      <td>56</td>\n",
       "      <td>0</td>\n",
       "      <td>3</td>\n",
       "      <td>0</td>\n",
       "      <td>30</td>\n",
       "    </tr>\n",
       "    <tr>\n",
       "      <th>1</th>\n",
       "      <td>2020</td>\n",
       "      <td>12</td>\n",
       "      <td>9E</td>\n",
       "      <td>Endeavor Air Inc.</td>\n",
       "      <td>ABY</td>\n",
       "      <td>Albany, GA: Southwest Georgia Regional</td>\n",
       "      <td>90</td>\n",
       "      <td>1</td>\n",
       "      <td>0.96</td>\n",
       "      <td>0</td>\n",
       "      <td>...</td>\n",
       "      <td>0</td>\n",
       "      <td>0.00</td>\n",
       "      <td>0</td>\n",
       "      <td>0</td>\n",
       "      <td>23</td>\n",
       "      <td>22</td>\n",
       "      <td>0</td>\n",
       "      <td>1</td>\n",
       "      <td>0</td>\n",
       "      <td>0</td>\n",
       "    </tr>\n",
       "    <tr>\n",
       "      <th>2</th>\n",
       "      <td>2020</td>\n",
       "      <td>12</td>\n",
       "      <td>9E</td>\n",
       "      <td>Endeavor Air Inc.</td>\n",
       "      <td>AEX</td>\n",
       "      <td>Alexandria, LA: Alexandria International</td>\n",
       "      <td>88</td>\n",
       "      <td>8</td>\n",
       "      <td>5.75</td>\n",
       "      <td>0</td>\n",
       "      <td>...</td>\n",
       "      <td>0</td>\n",
       "      <td>0.65</td>\n",
       "      <td>0</td>\n",
       "      <td>1</td>\n",
       "      <td>338</td>\n",
       "      <td>265</td>\n",
       "      <td>0</td>\n",
       "      <td>45</td>\n",
       "      <td>0</td>\n",
       "      <td>28</td>\n",
       "    </tr>\n",
       "    <tr>\n",
       "      <th>3</th>\n",
       "      <td>2020</td>\n",
       "      <td>12</td>\n",
       "      <td>9E</td>\n",
       "      <td>Endeavor Air Inc.</td>\n",
       "      <td>AGS</td>\n",
       "      <td>Augusta, GA: Augusta Regional at Bush Field</td>\n",
       "      <td>184</td>\n",
       "      <td>9</td>\n",
       "      <td>4.17</td>\n",
       "      <td>0</td>\n",
       "      <td>...</td>\n",
       "      <td>0</td>\n",
       "      <td>3.00</td>\n",
       "      <td>0</td>\n",
       "      <td>0</td>\n",
       "      <td>508</td>\n",
       "      <td>192</td>\n",
       "      <td>0</td>\n",
       "      <td>92</td>\n",
       "      <td>0</td>\n",
       "      <td>224</td>\n",
       "    </tr>\n",
       "    <tr>\n",
       "      <th>4</th>\n",
       "      <td>2020</td>\n",
       "      <td>12</td>\n",
       "      <td>9E</td>\n",
       "      <td>Endeavor Air Inc.</td>\n",
       "      <td>ALB</td>\n",
       "      <td>Albany, NY: Albany International</td>\n",
       "      <td>76</td>\n",
       "      <td>11</td>\n",
       "      <td>4.78</td>\n",
       "      <td>0</td>\n",
       "      <td>...</td>\n",
       "      <td>0</td>\n",
       "      <td>1.00</td>\n",
       "      <td>1</td>\n",
       "      <td>0</td>\n",
       "      <td>692</td>\n",
       "      <td>398</td>\n",
       "      <td>0</td>\n",
       "      <td>178</td>\n",
       "      <td>0</td>\n",
       "      <td>116</td>\n",
       "    </tr>\n",
       "  </tbody>\n",
       "</table>\n",
       "<p>5 rows × 21 columns</p>\n",
       "</div>"
      ],
      "text/plain": [
       "   year  month carrier       carrier_name airport  \\\n",
       "0  2020     12      9E  Endeavor Air Inc.     ABE   \n",
       "1  2020     12      9E  Endeavor Air Inc.     ABY   \n",
       "2  2020     12      9E  Endeavor Air Inc.     AEX   \n",
       "3  2020     12      9E  Endeavor Air Inc.     AGS   \n",
       "4  2020     12      9E  Endeavor Air Inc.     ALB   \n",
       "\n",
       "                                        airport_name  arr_flights  arr_del15  \\\n",
       "0  Allentown/Bethlehem/Easton, PA: Lehigh Valley ...           44          3   \n",
       "1             Albany, GA: Southwest Georgia Regional           90          1   \n",
       "2           Alexandria, LA: Alexandria International           88          8   \n",
       "3        Augusta, GA: Augusta Regional at Bush Field          184          9   \n",
       "4                   Albany, NY: Albany International           76         11   \n",
       "\n",
       "   carrier_ct  weather_ct  ...  security_ct  late_aircraft_ct  arr_cancelled  \\\n",
       "0        1.63           0  ...            0              1.25              0   \n",
       "1        0.96           0  ...            0              0.00              0   \n",
       "2        5.75           0  ...            0              0.65              0   \n",
       "3        4.17           0  ...            0              3.00              0   \n",
       "4        4.78           0  ...            0              1.00              1   \n",
       "\n",
       "   arr_diverted  arr_delay  carrier_delay  weather_delay  nas_delay  \\\n",
       "0             1         89             56              0          3   \n",
       "1             0         23             22              0          1   \n",
       "2             1        338            265              0         45   \n",
       "3             0        508            192              0         92   \n",
       "4             0        692            398              0        178   \n",
       "\n",
       "   security_delay  late_aircraft_delay  \n",
       "0               0                   30  \n",
       "1               0                    0  \n",
       "2               0                   28  \n",
       "3               0                  224  \n",
       "4               0                  116  \n",
       "\n",
       "[5 rows x 21 columns]"
      ]
     },
     "execution_count": 17,
     "metadata": {},
     "output_type": "execute_result"
    }
   ],
   "source": [
    "df.head()"
   ]
  },
  {
   "cell_type": "code",
   "execution_count": 18,
   "metadata": {},
   "outputs": [],
   "source": [
    "import pandas as pd\n",
    "\n",
    "def dataframe_to_json(df):\n",
    "    json_data = df.to_json(orient='records')\n",
    "    return json_data"
   ]
  },
  {
   "cell_type": "code",
   "execution_count": 19,
   "metadata": {},
   "outputs": [],
   "source": [
    "json_data = dataframe_to_json(df.head(100))"
   ]
  },
  {
   "cell_type": "code",
   "execution_count": 20,
   "metadata": {},
   "outputs": [
    {
     "data": {
      "text/plain": [
       "'[{\"year\":2020,\"month\":12,\"carrier\":\"9E\",\"carrier_name\":\"Endeavor Air Inc.\",\"airport\":\"ABE\",\"airport_name\":\"Allentown\\\\/Bethlehem\\\\/Easton, PA: Lehigh Valley International\",\"arr_flights\":44,\"arr_del15\":3,\"carrier_ct\":1.63,\"weather_ct\":0,\"nas_ct\":0.12,\"security_ct\":0,\"late_aircraft_ct\":1.25,\"arr_cancelled\":0,\"arr_diverted\":1,\"arr_delay\":89,\"carrier_delay\":56,\"weather_delay\":0,\"nas_delay\":3,\"security_delay\":0,\"late_aircraft_delay\":30},{\"year\":2020,\"month\":12,\"carrier\":\"9E\",\"carrier_name\":\"Endeavor Air Inc.\",\"airport\":\"ABY\",\"airport_name\":\"Albany, GA: Southwest Georgia Regional\",\"arr_flights\":90,\"arr_del15\":1,\"carrier_ct\":0.96,\"weather_ct\":0,\"nas_ct\":0.04,\"security_ct\":0,\"late_aircraft_ct\":0.0,\"arr_cancelled\":0,\"arr_diverted\":0,\"arr_delay\":23,\"carrier_delay\":22,\"weather_delay\":0,\"nas_delay\":1,\"security_delay\":0,\"late_aircraft_delay\":0},{\"year\":2020,\"month\":12,\"carrier\":\"9E\",\"carrier_name\":\"Endeavor Air Inc.\",\"airport\":\"AEX\",\"airport_name\":\"Alexandria, LA: Alexandria International\",\"arr_flights\":88,\"arr_del15\":8,\"carrier_ct\":5.75,\"weather_ct\":0,\"nas_ct\":1.6,\"security_ct\":0,\"late_aircraft_ct\":0.65,\"arr_cancelled\":0,\"arr_diverted\":1,\"arr_delay\":338,\"carrier_delay\":265,\"weather_delay\":0,\"nas_delay\":45,\"security_delay\":0,\"late_aircraft_delay\":28},{\"year\":2020,\"month\":12,\"carrier\":\"9E\",\"carrier_name\":\"Endeavor Air Inc.\",\"airport\":\"AGS\",\"airport_name\":\"Augusta, GA: Augusta Regional at Bush Field\",\"arr_flights\":184,\"arr_del15\":9,\"carrier_ct\":4.17,\"weather_ct\":0,\"nas_ct\":1.83,\"security_ct\":0,\"late_aircraft_ct\":3.0,\"arr_cancelled\":0,\"arr_diverted\":0,\"arr_delay\":508,\"carrier_delay\":192,\"weather_delay\":0,\"nas_delay\":92,\"security_delay\":0,\"late_aircraft_delay\":224},{\"year\":2020,\"month\":12,\"carrier\":\"9E\",\"carrier_name\":\"Endeavor Air Inc.\",\"airport\":\"ALB\",\"airport_name\":\"Albany, NY: Albany International\",\"arr_flights\":76,\"arr_del15\":11,\"carrier_ct\":4.78,\"weather_ct\":0,\"nas_ct\":5.22,\"security_ct\":0,\"late_aircraft_ct\":1.0,\"arr_cancelled\":1,\"arr_diverted\":0,\"arr_delay\":692,\"carrier_delay\":398,\"weather_delay\":0,\"nas_delay\":178,\"security_delay\":0,\"late_aircraft_delay\":116},{\"year\":2020,\"month\":12,\"carrier\":\"9E\",\"carrier_name\":\"Endeavor Air Inc.\",\"airport\":\"ATL\",\"airport_name\":\"Atlanta, GA: Hartsfield-Jackson Atlanta International\",\"arr_flights\":5985,\"arr_del15\":445,\"carrier_ct\":142.89,\"weather_ct\":12,\"nas_ct\":161.37,\"security_ct\":1,\"late_aircraft_ct\":127.79,\"arr_cancelled\":5,\"arr_diverted\":0,\"arr_delay\":30756,\"carrier_delay\":16390,\"weather_delay\":1509,\"nas_delay\":5060,\"security_delay\":16,\"late_aircraft_delay\":7781},{\"year\":2020,\"month\":12,\"carrier\":\"9E\",\"carrier_name\":\"Endeavor Air Inc.\",\"airport\":\"ATW\",\"airport_name\":\"Appleton, WI: Appleton International\",\"arr_flights\":142,\"arr_del15\":14,\"carrier_ct\":5.36,\"weather_ct\":0,\"nas_ct\":7.7,\"security_ct\":0,\"late_aircraft_ct\":0.94,\"arr_cancelled\":1,\"arr_diverted\":0,\"arr_delay\":436,\"carrier_delay\":162,\"weather_delay\":0,\"nas_delay\":182,\"security_delay\":0,\"late_aircraft_delay\":92},{\"year\":2020,\"month\":12,\"carrier\":\"9E\",\"carrier_name\":\"Endeavor Air Inc.\",\"airport\":\"AVL\",\"airport_name\":\"Asheville, NC: Asheville Regional\",\"arr_flights\":147,\"arr_del15\":10,\"carrier_ct\":6.04,\"weather_ct\":1,\"nas_ct\":1.0,\"security_ct\":0,\"late_aircraft_ct\":1.96,\"arr_cancelled\":0,\"arr_diverted\":1,\"arr_delay\":1070,\"carrier_delay\":838,\"weather_delay\":141,\"nas_delay\":24,\"security_delay\":0,\"late_aircraft_delay\":67},{\"year\":2020,\"month\":12,\"carrier\":\"9E\",\"carrier_name\":\"Endeavor Air Inc.\",\"airport\":\"AZO\",\"airport_name\":\"Kalamazoo, MI: Kalamazoo\\\\/Battle Creek International\",\"arr_flights\":84,\"arr_del15\":14,\"carrier_ct\":6.24,\"weather_ct\":1,\"nas_ct\":6.8,\"security_ct\":0,\"late_aircraft_ct\":0.0,\"arr_cancelled\":1,\"arr_diverted\":1,\"arr_delay\":2006,\"carrier_delay\":1164,\"weather_delay\":619,\"nas_delay\":223,\"security_delay\":0,\"late_aircraft_delay\":0},{\"year\":2020,\"month\":12,\"carrier\":\"9E\",\"carrier_name\":\"Endeavor Air Inc.\",\"airport\":\"BDL\",\"airport_name\":\"Hartford, CT: Bradley International\",\"arr_flights\":150,\"arr_del15\":19,\"carrier_ct\":5.7,\"weather_ct\":0,\"nas_ct\":12.07,\"security_ct\":0,\"late_aircraft_ct\":1.23,\"arr_cancelled\":3,\"arr_diverted\":0,\"arr_delay\":846,\"carrier_delay\":423,\"weather_delay\":0,\"nas_delay\":389,\"security_delay\":0,\"late_aircraft_delay\":34},{\"year\":2020,\"month\":12,\"carrier\":\"9E\",\"carrier_name\":\"Endeavor Air Inc.\",\"airport\":\"BHM\",\"airport_name\":\"Birmingham, AL: Birmingham-Shuttlesworth International\",\"arr_flights\":123,\"arr_del15\":9,\"carrier_ct\":6.82,\"weather_ct\":0,\"nas_ct\":1.18,\"security_ct\":0,\"late_aircraft_ct\":1.0,\"arr_cancelled\":0,\"arr_diverted\":0,\"arr_delay\":572,\"carrier_delay\":527,\"weather_delay\":0,\"nas_delay\":26,\"security_delay\":0,\"late_aircraft_delay\":19},{\"year\":2020,\"month\":12,\"carrier\":\"9E\",\"carrier_name\":\"Endeavor Air Inc.\",\"airport\":\"BIS\",\"airport_name\":\"Bismarck\\\\/Mandan, ND: Bismarck Municipal\",\"arr_flights\":25,\"arr_del15\":7,\"carrier_ct\":0.34,\"weather_ct\":0,\"nas_ct\":3.54,\"security_ct\":0,\"late_aircraft_ct\":3.11,\"arr_cancelled\":2,\"arr_diverted\":0,\"arr_delay\":278,\"carrier_delay\":13,\"weather_delay\":0,\"nas_delay\":93,\"security_delay\":0,\"late_aircraft_delay\":172},{\"year\":2020,\"month\":12,\"carrier\":\"9E\",\"carrier_name\":\"Endeavor Air Inc.\",\"airport\":\"BMI\",\"airport_name\":\"Bloomington\\\\/Normal, IL: Central Il Regional Airport at Bloomington\",\"arr_flights\":59,\"arr_del15\":5,\"carrier_ct\":3.15,\"weather_ct\":0,\"nas_ct\":1.48,\"security_ct\":0,\"late_aircraft_ct\":0.37,\"arr_cancelled\":0,\"arr_diverted\":0,\"arr_delay\":218,\"carrier_delay\":155,\"weather_delay\":0,\"nas_delay\":47,\"security_delay\":0,\"late_aircraft_delay\":16},{\"year\":2020,\"month\":12,\"carrier\":\"9E\",\"carrier_name\":\"Endeavor Air Inc.\",\"airport\":\"BNA\",\"airport_name\":\"Nashville, TN: Nashville International\",\"arr_flights\":2,\"arr_del15\":1,\"carrier_ct\":0.0,\"weather_ct\":0,\"nas_ct\":1.0,\"security_ct\":0,\"late_aircraft_ct\":0.0,\"arr_cancelled\":0,\"arr_diverted\":0,\"arr_delay\":20,\"carrier_delay\":0,\"weather_delay\":0,\"nas_delay\":20,\"security_delay\":0,\"late_aircraft_delay\":0},{\"year\":2020,\"month\":12,\"carrier\":\"9E\",\"carrier_name\":\"Endeavor Air Inc.\",\"airport\":\"BOS\",\"airport_name\":\"Boston, MA: Logan International\",\"arr_flights\":21,\"arr_del15\":3,\"carrier_ct\":1.0,\"weather_ct\":1,\"nas_ct\":1.29,\"security_ct\":0,\"late_aircraft_ct\":0.0,\"arr_cancelled\":0,\"arr_diverted\":0,\"arr_delay\":158,\"carrier_delay\":17,\"weather_delay\":81,\"nas_delay\":60,\"security_delay\":0,\"late_aircraft_delay\":0},{\"year\":2020,\"month\":12,\"carrier\":\"9E\",\"carrier_name\":\"Endeavor Air Inc.\",\"airport\":\"BQK\",\"airport_name\":\"Brunswick, GA: Brunswick Golden Isles\",\"arr_flights\":90,\"arr_del15\":6,\"carrier_ct\":3.8,\"weather_ct\":0,\"nas_ct\":1.63,\"security_ct\":0,\"late_aircraft_ct\":0.57,\"arr_cancelled\":0,\"arr_diverted\":0,\"arr_delay\":374,\"carrier_delay\":249,\"weather_delay\":0,\"nas_delay\":88,\"security_delay\":0,\"late_aircraft_delay\":37},{\"year\":2020,\"month\":12,\"carrier\":\"9E\",\"carrier_name\":\"Endeavor Air Inc.\",\"airport\":\"BTR\",\"airport_name\":\"Baton Rouge, LA: Baton Rouge Metropolitan\\\\/Ryan Field\",\"arr_flights\":115,\"arr_del15\":5,\"carrier_ct\":4.82,\"weather_ct\":0,\"nas_ct\":0.18,\"security_ct\":0,\"late_aircraft_ct\":0.0,\"arr_cancelled\":0,\"arr_diverted\":1,\"arr_delay\":244,\"carrier_delay\":236,\"weather_delay\":0,\"nas_delay\":8,\"security_delay\":0,\"late_aircraft_delay\":0},{\"year\":2020,\"month\":12,\"carrier\":\"9E\",\"carrier_name\":\"Endeavor Air Inc.\",\"airport\":\"BTV\",\"airport_name\":\"Burlington, VT: Burlington International\",\"arr_flights\":90,\"arr_del15\":10,\"carrier_ct\":3.06,\"weather_ct\":1,\"nas_ct\":5.4,\"security_ct\":0,\"late_aircraft_ct\":0.68,\"arr_cancelled\":0,\"arr_diverted\":0,\"arr_delay\":759,\"carrier_delay\":220,\"weather_delay\":258,\"nas_delay\":211,\"security_delay\":0,\"late_aircraft_delay\":70},{\"year\":2020,\"month\":12,\"carrier\":\"9E\",\"carrier_name\":\"Endeavor Air Inc.\",\"airport\":\"BUF\",\"airport_name\":\"Buffalo, NY: Buffalo Niagara International\",\"arr_flights\":14,\"arr_del15\":1,\"carrier_ct\":1.0,\"weather_ct\":0,\"nas_ct\":0.0,\"security_ct\":0,\"late_aircraft_ct\":0.0,\"arr_cancelled\":1,\"arr_diverted\":0,\"arr_delay\":18,\"carrier_delay\":18,\"weather_delay\":0,\"nas_delay\":0,\"security_delay\":0,\"late_aircraft_delay\":0},{\"year\":2020,\"month\":12,\"carrier\":\"9E\",\"carrier_name\":\"Endeavor Air Inc.\",\"airport\":\"BWI\",\"airport_name\":\"Baltimore, MD: Baltimore\\\\/Washington International Thurgood Marshall\",\"arr_flights\":96,\"arr_del15\":17,\"carrier_ct\":8.5,\"weather_ct\":0,\"nas_ct\":5.11,\"security_ct\":0,\"late_aircraft_ct\":3.4,\"arr_cancelled\":1,\"arr_diverted\":0,\"arr_delay\":1064,\"carrier_delay\":558,\"weather_delay\":0,\"nas_delay\":200,\"security_delay\":0,\"late_aircraft_delay\":306},{\"year\":2020,\"month\":12,\"carrier\":\"9E\",\"carrier_name\":\"Endeavor Air Inc.\",\"airport\":\"CAE\",\"airport_name\":\"Columbia, SC: Columbia Metropolitan\",\"arr_flights\":106,\"arr_del15\":5,\"carrier_ct\":3.7,\"weather_ct\":0,\"nas_ct\":1.3,\"security_ct\":0,\"late_aircraft_ct\":0.0,\"arr_cancelled\":0,\"arr_diverted\":0,\"arr_delay\":230,\"carrier_delay\":205,\"weather_delay\":0,\"nas_delay\":25,\"security_delay\":0,\"late_aircraft_delay\":0},{\"year\":2020,\"month\":12,\"carrier\":\"9E\",\"carrier_name\":\"Endeavor Air Inc.\",\"airport\":\"CHA\",\"airport_name\":\"Chattanooga, TN: Lovell Field\",\"arr_flights\":213,\"arr_del15\":12,\"carrier_ct\":6.42,\"weather_ct\":3,\"nas_ct\":0.92,\"security_ct\":0,\"late_aircraft_ct\":1.71,\"arr_cancelled\":0,\"arr_diverted\":0,\"arr_delay\":542,\"carrier_delay\":279,\"weather_delay\":202,\"nas_delay\":25,\"security_delay\":0,\"late_aircraft_delay\":36},{\"year\":2020,\"month\":12,\"carrier\":\"9E\",\"carrier_name\":\"Endeavor Air Inc.\",\"airport\":\"CHO\",\"airport_name\":\"Charlottesville, VA: Charlottesville Albemarle\",\"arr_flights\":86,\"arr_del15\":1,\"carrier_ct\":0.59,\"weather_ct\":0,\"nas_ct\":0.0,\"security_ct\":0,\"late_aircraft_ct\":0.41,\"arr_cancelled\":1,\"arr_diverted\":1,\"arr_delay\":17,\"carrier_delay\":10,\"weather_delay\":0,\"nas_delay\":0,\"security_delay\":0,\"late_aircraft_delay\":7},{\"year\":2020,\"month\":12,\"carrier\":\"9E\",\"carrier_name\":\"Endeavor Air Inc.\",\"airport\":\"CHS\",\"airport_name\":\"Charleston, SC: Charleston AFB\\\\/International\",\"arr_flights\":61,\"arr_del15\":6,\"carrier_ct\":3.03,\"weather_ct\":0,\"nas_ct\":2.65,\"security_ct\":0,\"late_aircraft_ct\":0.32,\"arr_cancelled\":1,\"arr_diverted\":0,\"arr_delay\":209,\"carrier_delay\":121,\"weather_delay\":0,\"nas_delay\":67,\"security_delay\":0,\"late_aircraft_delay\":21},{\"year\":2020,\"month\":12,\"carrier\":\"9E\",\"carrier_name\":\"Endeavor Air Inc.\",\"airport\":\"CID\",\"airport_name\":\"Cedar Rapids\\\\/Iowa City, IA: The Eastern Iowa\",\"arr_flights\":11,\"arr_del15\":0,\"carrier_ct\":0.0,\"weather_ct\":0,\"nas_ct\":0.0,\"security_ct\":0,\"late_aircraft_ct\":0.0,\"arr_cancelled\":0,\"arr_diverted\":0,\"arr_delay\":0,\"carrier_delay\":0,\"weather_delay\":0,\"nas_delay\":0,\"security_delay\":0,\"late_aircraft_delay\":0},{\"year\":2020,\"month\":12,\"carrier\":\"9E\",\"carrier_name\":\"Endeavor Air Inc.\",\"airport\":\"CLE\",\"airport_name\":\"Cleveland, OH: Cleveland-Hopkins International\",\"arr_flights\":74,\"arr_del15\":12,\"carrier_ct\":2.57,\"weather_ct\":1,\"nas_ct\":7.47,\"security_ct\":0,\"late_aircraft_ct\":1.0,\"arr_cancelled\":0,\"arr_diverted\":0,\"arr_delay\":677,\"carrier_delay\":118,\"weather_delay\":121,\"nas_delay\":398,\"security_delay\":0,\"late_aircraft_delay\":40},{\"year\":2020,\"month\":12,\"carrier\":\"9E\",\"carrier_name\":\"Endeavor Air Inc.\",\"airport\":\"CLT\",\"airport_name\":\"Charlotte, NC: Charlotte Douglas International\",\"arr_flights\":42,\"arr_del15\":1,\"carrier_ct\":1.0,\"weather_ct\":0,\"nas_ct\":0.0,\"security_ct\":0,\"late_aircraft_ct\":0.0,\"arr_cancelled\":0,\"arr_diverted\":0,\"arr_delay\":64,\"carrier_delay\":64,\"weather_delay\":0,\"nas_delay\":0,\"security_delay\":0,\"late_aircraft_delay\":0},{\"year\":2020,\"month\":12,\"carrier\":\"9E\",\"carrier_name\":\"Endeavor Air Inc.\",\"airport\":\"CMH\",\"airport_name\":\"Columbus, OH: John Glenn Columbus International\",\"arr_flights\":84,\"arr_del15\":8,\"carrier_ct\":2.44,\"weather_ct\":0,\"nas_ct\":4.3,\"security_ct\":0,\"late_aircraft_ct\":1.26,\"arr_cancelled\":2,\"arr_diverted\":0,\"arr_delay\":446,\"carrier_delay\":127,\"weather_delay\":0,\"nas_delay\":190,\"security_delay\":0,\"late_aircraft_delay\":129},{\"year\":2020,\"month\":12,\"carrier\":\"9E\",\"carrier_name\":\"Endeavor Air Inc.\",\"airport\":\"CRW\",\"airport_name\":\"Charleston\\\\/Dunbar, WV: Yeager\",\"arr_flights\":113,\"arr_del15\":8,\"carrier_ct\":6.0,\"weather_ct\":1,\"nas_ct\":0.16,\"security_ct\":0,\"late_aircraft_ct\":0.84,\"arr_cancelled\":0,\"arr_diverted\":0,\"arr_delay\":376,\"carrier_delay\":305,\"weather_delay\":22,\"nas_delay\":8,\"security_delay\":0,\"late_aircraft_delay\":41},{\"year\":2020,\"month\":12,\"carrier\":\"9E\",\"carrier_name\":\"Endeavor Air Inc.\",\"airport\":\"CSG\",\"airport_name\":\"Columbus, GA: Columbus Airport\",\"arr_flights\":99,\"arr_del15\":6,\"carrier_ct\":2.45,\"weather_ct\":1,\"nas_ct\":2.58,\"security_ct\":0,\"late_aircraft_ct\":0.0,\"arr_cancelled\":0,\"arr_diverted\":0,\"arr_delay\":162,\"carrier_delay\":74,\"weather_delay\":33,\"nas_delay\":55,\"security_delay\":0,\"late_aircraft_delay\":0},{\"year\":2020,\"month\":12,\"carrier\":\"9E\",\"carrier_name\":\"Endeavor Air Inc.\",\"airport\":\"CVG\",\"airport_name\":\"Cincinnati, OH: Cincinnati\\\\/Northern Kentucky International\",\"arr_flights\":381,\"arr_del15\":43,\"carrier_ct\":6.09,\"weather_ct\":1,\"nas_ct\":23.77,\"security_ct\":0,\"late_aircraft_ct\":11.82,\"arr_cancelled\":4,\"arr_diverted\":0,\"arr_delay\":1689,\"carrier_delay\":216,\"weather_delay\":100,\"nas_delay\":685,\"security_delay\":0,\"late_aircraft_delay\":688},{\"year\":2020,\"month\":12,\"carrier\":\"9E\",\"carrier_name\":\"Endeavor Air Inc.\",\"airport\":\"CWA\",\"airport_name\":\"Mosinee, WI: Central Wisconsin\",\"arr_flights\":88,\"arr_del15\":14,\"carrier_ct\":6.16,\"weather_ct\":0,\"nas_ct\":5.82,\"security_ct\":0,\"late_aircraft_ct\":2.02,\"arr_cancelled\":2,\"arr_diverted\":0,\"arr_delay\":765,\"carrier_delay\":291,\"weather_delay\":0,\"nas_delay\":245,\"security_delay\":0,\"late_aircraft_delay\":229},{\"year\":2020,\"month\":12,\"carrier\":\"9E\",\"carrier_name\":\"Endeavor Air Inc.\",\"airport\":\"DAL\",\"airport_name\":\"Dallas, TX: Dallas Love Field\",\"arr_flights\":39,\"arr_del15\":6,\"carrier_ct\":0.09,\"weather_ct\":0,\"nas_ct\":3.76,\"security_ct\":0,\"late_aircraft_ct\":2.15,\"arr_cancelled\":0,\"arr_diverted\":0,\"arr_delay\":420,\"carrier_delay\":5,\"weather_delay\":0,\"nas_delay\":296,\"security_delay\":0,\"late_aircraft_delay\":119},{\"year\":2020,\"month\":12,\"carrier\":\"9E\",\"carrier_name\":\"Endeavor Air Inc.\",\"airport\":\"DAY\",\"airport_name\":\"Dayton, OH: James M Cox\\\\/Dayton International\",\"arr_flights\":176,\"arr_del15\":17,\"carrier_ct\":4.89,\"weather_ct\":0,\"nas_ct\":7.54,\"security_ct\":0,\"late_aircraft_ct\":4.57,\"arr_cancelled\":0,\"arr_diverted\":0,\"arr_delay\":850,\"carrier_delay\":257,\"weather_delay\":0,\"nas_delay\":232,\"security_delay\":0,\"late_aircraft_delay\":361},{\"year\":2020,\"month\":12,\"carrier\":\"9E\",\"carrier_name\":\"Endeavor Air Inc.\",\"airport\":\"DCA\",\"airport_name\":\"Washington, DC: Ronald Reagan Washington National\",\"arr_flights\":37,\"arr_del15\":1,\"carrier_ct\":0.0,\"weather_ct\":0,\"nas_ct\":0.13,\"security_ct\":0,\"late_aircraft_ct\":0.87,\"arr_cancelled\":1,\"arr_diverted\":0,\"arr_delay\":15,\"carrier_delay\":0,\"weather_delay\":0,\"nas_delay\":2,\"security_delay\":0,\"late_aircraft_delay\":13},{\"year\":2020,\"month\":12,\"carrier\":\"9E\",\"carrier_name\":\"Endeavor Air Inc.\",\"airport\":\"DFW\",\"airport_name\":\"Dallas\\\\/Fort Worth, TX: Dallas\\\\/Fort Worth International\",\"arr_flights\":83,\"arr_del15\":8,\"carrier_ct\":1.5,\"weather_ct\":0,\"nas_ct\":5.4,\"security_ct\":0,\"late_aircraft_ct\":1.1,\"arr_cancelled\":0,\"arr_diverted\":0,\"arr_delay\":454,\"carrier_delay\":134,\"weather_delay\":0,\"nas_delay\":260,\"security_delay\":0,\"late_aircraft_delay\":60},{\"year\":2020,\"month\":12,\"carrier\":\"9E\",\"carrier_name\":\"Endeavor Air Inc.\",\"airport\":\"DHN\",\"airport_name\":\"Dothan, AL: Dothan Regional\",\"arr_flights\":101,\"arr_del15\":10,\"carrier_ct\":4.79,\"weather_ct\":0,\"nas_ct\":0.63,\"security_ct\":0,\"late_aircraft_ct\":4.58,\"arr_cancelled\":0,\"arr_diverted\":0,\"arr_delay\":464,\"carrier_delay\":244,\"weather_delay\":0,\"nas_delay\":17,\"security_delay\":0,\"late_aircraft_delay\":203},{\"year\":2020,\"month\":12,\"carrier\":\"9E\",\"carrier_name\":\"Endeavor Air Inc.\",\"airport\":\"DLH\",\"airport_name\":\"Duluth, MN: Duluth International\",\"arr_flights\":122,\"arr_del15\":11,\"carrier_ct\":5.94,\"weather_ct\":0,\"nas_ct\":4.02,\"security_ct\":0,\"late_aircraft_ct\":1.04,\"arr_cancelled\":3,\"arr_diverted\":0,\"arr_delay\":670,\"carrier_delay\":398,\"weather_delay\":0,\"nas_delay\":208,\"security_delay\":0,\"late_aircraft_delay\":64},{\"year\":2020,\"month\":12,\"carrier\":\"9E\",\"carrier_name\":\"Endeavor Air Inc.\",\"airport\":\"DSM\",\"airport_name\":\"Des Moines, IA: Des Moines International\",\"arr_flights\":232,\"arr_del15\":28,\"carrier_ct\":8.05,\"weather_ct\":4,\"nas_ct\":10.58,\"security_ct\":0,\"late_aircraft_ct\":5.74,\"arr_cancelled\":7,\"arr_diverted\":0,\"arr_delay\":3960,\"carrier_delay\":565,\"weather_delay\":2631,\"nas_delay\":408,\"security_delay\":0,\"late_aircraft_delay\":356},{\"year\":2020,\"month\":12,\"carrier\":\"9E\",\"carrier_name\":\"Endeavor Air Inc.\",\"airport\":\"DTW\",\"airport_name\":\"Detroit, MI: Detroit Metro Wayne County\",\"arr_flights\":2312,\"arr_del15\":197,\"carrier_ct\":53.67,\"weather_ct\":2,\"nas_ct\":60.81,\"security_ct\":0,\"late_aircraft_ct\":80.6,\"arr_cancelled\":13,\"arr_diverted\":4,\"arr_delay\":16873,\"carrier_delay\":8216,\"weather_delay\":196,\"nas_delay\":1879,\"security_delay\":0,\"late_aircraft_delay\":6582},{\"year\":2020,\"month\":12,\"carrier\":\"9E\",\"carrier_name\":\"Endeavor Air Inc.\",\"airport\":\"ECP\",\"airport_name\":\"Panama City, FL: Northwest Florida Beaches International\",\"arr_flights\":39,\"arr_del15\":5,\"carrier_ct\":1.96,\"weather_ct\":0,\"nas_ct\":1.5,\"security_ct\":0,\"late_aircraft_ct\":1.54,\"arr_cancelled\":0,\"arr_diverted\":0,\"arr_delay\":175,\"carrier_delay\":82,\"weather_delay\":0,\"nas_delay\":28,\"security_delay\":0,\"late_aircraft_delay\":65},{\"year\":2020,\"month\":12,\"carrier\":\"9E\",\"carrier_name\":\"Endeavor Air Inc.\",\"airport\":\"ELM\",\"airport_name\":\"Elmira\\\\/Corning, NY: Elmira\\\\/Corning Regional\",\"arr_flights\":52,\"arr_del15\":5,\"carrier_ct\":2.55,\"weather_ct\":0,\"nas_ct\":2.45,\"security_ct\":0,\"late_aircraft_ct\":0.0,\"arr_cancelled\":1,\"arr_diverted\":0,\"arr_delay\":160,\"carrier_delay\":62,\"weather_delay\":0,\"nas_delay\":98,\"security_delay\":0,\"late_aircraft_delay\":0},{\"year\":2020,\"month\":12,\"carrier\":\"9E\",\"carrier_name\":\"Endeavor Air Inc.\",\"airport\":\"EVV\",\"airport_name\":\"Evansville, IN: Evansville Regional\",\"arr_flights\":143,\"arr_del15\":6,\"carrier_ct\":2.92,\"weather_ct\":0,\"nas_ct\":2.64,\"security_ct\":0,\"late_aircraft_ct\":0.44,\"arr_cancelled\":0,\"arr_diverted\":0,\"arr_delay\":218,\"carrier_delay\":137,\"weather_delay\":0,\"nas_delay\":62,\"security_delay\":0,\"late_aircraft_delay\":19},{\"year\":2020,\"month\":12,\"carrier\":\"9E\",\"carrier_name\":\"Endeavor Air Inc.\",\"airport\":\"EWR\",\"airport_name\":\"Newark, NJ: Newark Liberty International\",\"arr_flights\":175,\"arr_del15\":23,\"carrier_ct\":12.71,\"weather_ct\":2,\"nas_ct\":8.15,\"security_ct\":0,\"late_aircraft_ct\":0.23,\"arr_cancelled\":5,\"arr_diverted\":0,\"arr_delay\":1684,\"carrier_delay\":1216,\"weather_delay\":131,\"nas_delay\":313,\"security_delay\":0,\"late_aircraft_delay\":24},{\"year\":2020,\"month\":12,\"carrier\":\"9E\",\"carrier_name\":\"Endeavor Air Inc.\",\"airport\":\"FAR\",\"airport_name\":\"Fargo, ND: Hector International\",\"arr_flights\":91,\"arr_del15\":8,\"carrier_ct\":4.0,\"weather_ct\":0,\"nas_ct\":4.0,\"security_ct\":0,\"late_aircraft_ct\":0.0,\"arr_cancelled\":3,\"arr_diverted\":1,\"arr_delay\":266,\"carrier_delay\":137,\"weather_delay\":0,\"nas_delay\":129,\"security_delay\":0,\"late_aircraft_delay\":0},{\"year\":2020,\"month\":12,\"carrier\":\"9E\",\"carrier_name\":\"Endeavor Air Inc.\",\"airport\":\"FAY\",\"airport_name\":\"Fayetteville, NC: Fayetteville Regional\\\\/Grannis Field\",\"arr_flights\":112,\"arr_del15\":5,\"carrier_ct\":3.05,\"weather_ct\":0,\"nas_ct\":0.0,\"security_ct\":1,\"late_aircraft_ct\":0.95,\"arr_cancelled\":0,\"arr_diverted\":0,\"arr_delay\":151,\"carrier_delay\":88,\"weather_delay\":0,\"nas_delay\":0,\"security_delay\":22,\"late_aircraft_delay\":41},{\"year\":2020,\"month\":12,\"carrier\":\"9E\",\"carrier_name\":\"Endeavor Air Inc.\",\"airport\":\"FLL\",\"airport_name\":\"Fort Lauderdale, FL: Fort Lauderdale-Hollywood International\",\"arr_flights\":53,\"arr_del15\":5,\"carrier_ct\":1.96,\"weather_ct\":0,\"nas_ct\":3.0,\"security_ct\":0,\"late_aircraft_ct\":0.04,\"arr_cancelled\":0,\"arr_diverted\":0,\"arr_delay\":641,\"carrier_delay\":417,\"weather_delay\":0,\"nas_delay\":211,\"security_delay\":0,\"late_aircraft_delay\":13},{\"year\":2020,\"month\":12,\"carrier\":\"9E\",\"carrier_name\":\"Endeavor Air Inc.\",\"airport\":\"FSD\",\"airport_name\":\"Sioux Falls, SD: Joe Foss Field\",\"arr_flights\":123,\"arr_del15\":15,\"carrier_ct\":3.69,\"weather_ct\":0,\"nas_ct\":7.53,\"security_ct\":0,\"late_aircraft_ct\":3.77,\"arr_cancelled\":3,\"arr_diverted\":0,\"arr_delay\":454,\"carrier_delay\":89,\"weather_delay\":0,\"nas_delay\":208,\"security_delay\":0,\"late_aircraft_delay\":157},{\"year\":2020,\"month\":12,\"carrier\":\"9E\",\"carrier_name\":\"Endeavor Air Inc.\",\"airport\":\"FWA\",\"airport_name\":\"Fort Wayne, IN: Fort Wayne International\",\"arr_flights\":83,\"arr_del15\":7,\"carrier_ct\":3.64,\"weather_ct\":0,\"nas_ct\":1.4,\"security_ct\":0,\"late_aircraft_ct\":1.96,\"arr_cancelled\":0,\"arr_diverted\":0,\"arr_delay\":227,\"carrier_delay\":151,\"weather_delay\":0,\"nas_delay\":40,\"security_delay\":0,\"late_aircraft_delay\":36},{\"year\":2020,\"month\":12,\"carrier\":\"9E\",\"carrier_name\":\"Endeavor Air Inc.\",\"airport\":\"GFK\",\"airport_name\":\"Grand Forks, ND: Grand Forks International\",\"arr_flights\":14,\"arr_del15\":3,\"carrier_ct\":1.85,\"weather_ct\":0,\"nas_ct\":0.0,\"security_ct\":0,\"late_aircraft_ct\":1.15,\"arr_cancelled\":1,\"arr_diverted\":0,\"arr_delay\":308,\"carrier_delay\":174,\"weather_delay\":0,\"nas_delay\":0,\"security_delay\":0,\"late_aircraft_delay\":134},{\"year\":2020,\"month\":12,\"carrier\":\"9E\",\"carrier_name\":\"Endeavor Air Inc.\",\"airport\":\"GNV\",\"airport_name\":\"Gainesville, FL: Gainesville Regional\",\"arr_flights\":115,\"arr_del15\":8,\"carrier_ct\":4.19,\"weather_ct\":0,\"nas_ct\":2.0,\"security_ct\":0,\"late_aircraft_ct\":1.81,\"arr_cancelled\":0,\"arr_diverted\":0,\"arr_delay\":401,\"carrier_delay\":255,\"weather_delay\":0,\"nas_delay\":42,\"security_delay\":0,\"late_aircraft_delay\":104},{\"year\":2020,\"month\":12,\"carrier\":\"9E\",\"carrier_name\":\"Endeavor Air Inc.\",\"airport\":\"GPT\",\"airport_name\":\"Gulfport\\\\/Biloxi, MS: Gulfport-Biloxi International\",\"arr_flights\":142,\"arr_del15\":8,\"carrier_ct\":3.51,\"weather_ct\":0,\"nas_ct\":1.67,\"security_ct\":0,\"late_aircraft_ct\":2.35,\"arr_cancelled\":0,\"arr_diverted\":1,\"arr_delay\":321,\"carrier_delay\":152,\"weather_delay\":0,\"nas_delay\":33,\"security_delay\":8,\"late_aircraft_delay\":128},{\"year\":2020,\"month\":12,\"carrier\":\"9E\",\"carrier_name\":\"Endeavor Air Inc.\",\"airport\":\"GRB\",\"airport_name\":\"Green Bay, WI: Green Bay Austin Straubel International\",\"arr_flights\":218,\"arr_del15\":20,\"carrier_ct\":9.62,\"weather_ct\":0,\"nas_ct\":6.78,\"security_ct\":0,\"late_aircraft_ct\":3.61,\"arr_cancelled\":2,\"arr_diverted\":0,\"arr_delay\":1066,\"carrier_delay\":557,\"weather_delay\":0,\"nas_delay\":234,\"security_delay\":0,\"late_aircraft_delay\":275},{\"year\":2020,\"month\":12,\"carrier\":\"9E\",\"carrier_name\":\"Endeavor Air Inc.\",\"airport\":\"GRR\",\"airport_name\":\"Grand Rapids, MI: Gerald R. Ford International\",\"arr_flights\":203,\"arr_del15\":23,\"carrier_ct\":7.05,\"weather_ct\":1,\"nas_ct\":11.98,\"security_ct\":0,\"late_aircraft_ct\":2.97,\"arr_cancelled\":1,\"arr_diverted\":0,\"arr_delay\":934,\"carrier_delay\":358,\"weather_delay\":29,\"nas_delay\":410,\"security_delay\":0,\"late_aircraft_delay\":137},{\"year\":2020,\"month\":12,\"carrier\":\"9E\",\"carrier_name\":\"Endeavor Air Inc.\",\"airport\":\"GSO\",\"airport_name\":\"Greensboro\\\\/High Point, NC: Piedmont Triad International\",\"arr_flights\":184,\"arr_del15\":8,\"carrier_ct\":4.4,\"weather_ct\":0,\"nas_ct\":1.48,\"security_ct\":0,\"late_aircraft_ct\":2.12,\"arr_cancelled\":0,\"arr_diverted\":0,\"arr_delay\":250,\"carrier_delay\":133,\"weather_delay\":0,\"nas_delay\":34,\"security_delay\":0,\"late_aircraft_delay\":83},{\"year\":2020,\"month\":12,\"carrier\":\"9E\",\"carrier_name\":\"Endeavor Air Inc.\",\"airport\":\"GSP\",\"airport_name\":\"Greer, SC: Greenville-Spartanburg International\",\"arr_flights\":54,\"arr_del15\":10,\"carrier_ct\":8.12,\"weather_ct\":0,\"nas_ct\":1.13,\"security_ct\":0,\"late_aircraft_ct\":0.74,\"arr_cancelled\":0,\"arr_diverted\":0,\"arr_delay\":1079,\"carrier_delay\":985,\"weather_delay\":0,\"nas_delay\":61,\"security_delay\":0,\"late_aircraft_delay\":33},{\"year\":2020,\"month\":12,\"carrier\":\"9E\",\"carrier_name\":\"Endeavor Air Inc.\",\"airport\":\"GTR\",\"airport_name\":\"Columbus, MS: Golden Triangle Regional\",\"arr_flights\":86,\"arr_del15\":7,\"carrier_ct\":6.99,\"weather_ct\":0,\"nas_ct\":0.01,\"security_ct\":0,\"late_aircraft_ct\":0.0,\"arr_cancelled\":0,\"arr_diverted\":0,\"arr_delay\":368,\"carrier_delay\":367,\"weather_delay\":0,\"nas_delay\":1,\"security_delay\":0,\"late_aircraft_delay\":0},{\"year\":2020,\"month\":12,\"carrier\":\"9E\",\"carrier_name\":\"Endeavor Air Inc.\",\"airport\":\"HOU\",\"airport_name\":\"Houston, TX: William P Hobby\",\"arr_flights\":148,\"arr_del15\":21,\"carrier_ct\":6.2,\"weather_ct\":0,\"nas_ct\":13.98,\"security_ct\":0,\"late_aircraft_ct\":0.81,\"arr_cancelled\":0,\"arr_diverted\":0,\"arr_delay\":617,\"carrier_delay\":210,\"weather_delay\":0,\"nas_delay\":394,\"security_delay\":0,\"late_aircraft_delay\":13},{\"year\":2020,\"month\":12,\"carrier\":\"9E\",\"carrier_name\":\"Endeavor Air Inc.\",\"airport\":\"HSV\",\"airport_name\":\"Huntsville, AL: Huntsville International-Carl T Jones Field\",\"arr_flights\":174,\"arr_del15\":4,\"carrier_ct\":2.88,\"weather_ct\":0,\"nas_ct\":0.13,\"security_ct\":0,\"late_aircraft_ct\":0.81,\"arr_cancelled\":0,\"arr_diverted\":0,\"arr_delay\":94,\"carrier_delay\":70,\"weather_delay\":4,\"nas_delay\":3,\"security_delay\":0,\"late_aircraft_delay\":17},{\"year\":2020,\"month\":12,\"carrier\":\"9E\",\"carrier_name\":\"Endeavor Air Inc.\",\"airport\":\"IAD\",\"airport_name\":\"Washington, DC: Washington Dulles International\",\"arr_flights\":12,\"arr_del15\":1,\"carrier_ct\":1.0,\"weather_ct\":0,\"nas_ct\":0.0,\"security_ct\":0,\"late_aircraft_ct\":0.0,\"arr_cancelled\":0,\"arr_diverted\":0,\"arr_delay\":44,\"carrier_delay\":44,\"weather_delay\":0,\"nas_delay\":0,\"security_delay\":0,\"late_aircraft_delay\":0},{\"year\":2020,\"month\":12,\"carrier\":\"9E\",\"carrier_name\":\"Endeavor Air Inc.\",\"airport\":\"ICT\",\"airport_name\":\"Wichita, KS: Wichita Dwight D Eisenhower National\",\"arr_flights\":120,\"arr_del15\":9,\"carrier_ct\":2.68,\"weather_ct\":0,\"nas_ct\":5.32,\"security_ct\":0,\"late_aircraft_ct\":1.0,\"arr_cancelled\":1,\"arr_diverted\":0,\"arr_delay\":290,\"carrier_delay\":87,\"weather_delay\":0,\"nas_delay\":143,\"security_delay\":0,\"late_aircraft_delay\":60},{\"year\":2020,\"month\":12,\"carrier\":\"9E\",\"carrier_name\":\"Endeavor Air Inc.\",\"airport\":\"ILM\",\"airport_name\":\"Wilmington, NC: Wilmington International\",\"arr_flights\":116,\"arr_del15\":4,\"carrier_ct\":2.21,\"weather_ct\":0,\"nas_ct\":0.68,\"security_ct\":0,\"late_aircraft_ct\":1.11,\"arr_cancelled\":0,\"arr_diverted\":0,\"arr_delay\":89,\"carrier_delay\":55,\"weather_delay\":0,\"nas_delay\":13,\"security_delay\":0,\"late_aircraft_delay\":21},{\"year\":2020,\"month\":12,\"carrier\":\"9E\",\"carrier_name\":\"Endeavor Air Inc.\",\"airport\":\"IND\",\"airport_name\":\"Indianapolis, IN: Indianapolis International\",\"arr_flights\":110,\"arr_del15\":6,\"carrier_ct\":0.25,\"weather_ct\":0,\"nas_ct\":4.54,\"security_ct\":0,\"late_aircraft_ct\":1.21,\"arr_cancelled\":3,\"arr_diverted\":0,\"arr_delay\":182,\"carrier_delay\":6,\"weather_delay\":0,\"nas_delay\":115,\"security_delay\":0,\"late_aircraft_delay\":61},{\"year\":2020,\"month\":12,\"carrier\":\"9E\",\"carrier_name\":\"Endeavor Air Inc.\",\"airport\":\"JAN\",\"airport_name\":\"Jackson\\\\/Vicksburg, MS: Jackson Medgar Wiley Evers International\",\"arr_flights\":144,\"arr_del15\":5,\"carrier_ct\":4.63,\"weather_ct\":0,\"nas_ct\":0.0,\"security_ct\":0,\"late_aircraft_ct\":0.37,\"arr_cancelled\":0,\"arr_diverted\":0,\"arr_delay\":222,\"carrier_delay\":192,\"weather_delay\":0,\"nas_delay\":0,\"security_delay\":0,\"late_aircraft_delay\":30},{\"year\":2020,\"month\":12,\"carrier\":\"9E\",\"carrier_name\":\"Endeavor Air Inc.\",\"airport\":\"JAX\",\"airport_name\":\"Jacksonville, FL: Jacksonville International\",\"arr_flights\":29,\"arr_del15\":3,\"carrier_ct\":1.68,\"weather_ct\":0,\"nas_ct\":1.25,\"security_ct\":0,\"late_aircraft_ct\":0.07,\"arr_cancelled\":1,\"arr_diverted\":0,\"arr_delay\":301,\"carrier_delay\":250,\"weather_delay\":0,\"nas_delay\":33,\"security_delay\":0,\"late_aircraft_delay\":18},{\"year\":2020,\"month\":12,\"carrier\":\"9E\",\"carrier_name\":\"Endeavor Air Inc.\",\"airport\":\"JFK\",\"airport_name\":\"New York, NY: John F. Kennedy International\",\"arr_flights\":269,\"arr_del15\":31,\"carrier_ct\":9.92,\"weather_ct\":1,\"nas_ct\":12.77,\"security_ct\":0,\"late_aircraft_ct\":7.04,\"arr_cancelled\":10,\"arr_diverted\":0,\"arr_delay\":1759,\"carrier_delay\":715,\"weather_delay\":64,\"nas_delay\":439,\"security_delay\":0,\"late_aircraft_delay\":541},{\"year\":2020,\"month\":12,\"carrier\":\"9E\",\"carrier_name\":\"Endeavor Air Inc.\",\"airport\":\"LAN\",\"airport_name\":\"Lansing, MI: Capital Region International\",\"arr_flights\":51,\"arr_del15\":9,\"carrier_ct\":1.77,\"weather_ct\":0,\"nas_ct\":5.85,\"security_ct\":0,\"late_aircraft_ct\":1.39,\"arr_cancelled\":0,\"arr_diverted\":0,\"arr_delay\":353,\"carrier_delay\":94,\"weather_delay\":0,\"nas_delay\":184,\"security_delay\":0,\"late_aircraft_delay\":75},{\"year\":2020,\"month\":12,\"carrier\":\"9E\",\"carrier_name\":\"Endeavor Air Inc.\",\"airport\":\"LEX\",\"airport_name\":\"Lexington, KY: Blue Grass\",\"arr_flights\":179,\"arr_del15\":14,\"carrier_ct\":6.36,\"weather_ct\":0,\"nas_ct\":4.3,\"security_ct\":0,\"late_aircraft_ct\":3.33,\"arr_cancelled\":0,\"arr_diverted\":0,\"arr_delay\":831,\"carrier_delay\":417,\"weather_delay\":0,\"nas_delay\":154,\"security_delay\":0,\"late_aircraft_delay\":260},{\"year\":2020,\"month\":12,\"carrier\":\"9E\",\"carrier_name\":\"Endeavor Air Inc.\",\"airport\":\"LFT\",\"airport_name\":\"Lafayette, LA: Lafayette Regional Paul Fournet Field\",\"arr_flights\":130,\"arr_del15\":3,\"carrier_ct\":1.69,\"weather_ct\":0,\"nas_ct\":1.11,\"security_ct\":0,\"late_aircraft_ct\":0.19,\"arr_cancelled\":0,\"arr_diverted\":2,\"arr_delay\":75,\"carrier_delay\":45,\"weather_delay\":0,\"nas_delay\":23,\"security_delay\":0,\"late_aircraft_delay\":7},{\"year\":2020,\"month\":12,\"carrier\":\"9E\",\"carrier_name\":\"Endeavor Air Inc.\",\"airport\":\"LGA\",\"airport_name\":\"New York, NY: LaGuardia\",\"arr_flights\":55,\"arr_del15\":5,\"carrier_ct\":1.0,\"weather_ct\":1,\"nas_ct\":3.08,\"security_ct\":0,\"late_aircraft_ct\":0.24,\"arr_cancelled\":1,\"arr_diverted\":0,\"arr_delay\":314,\"carrier_delay\":32,\"weather_delay\":61,\"nas_delay\":185,\"security_delay\":0,\"late_aircraft_delay\":36},{\"year\":2020,\"month\":12,\"carrier\":\"9E\",\"carrier_name\":\"Endeavor Air Inc.\",\"airport\":\"LIT\",\"airport_name\":\"Little Rock, AR: Bill and Hillary Clinton Nat Adams Field\",\"arr_flights\":114,\"arr_del15\":10,\"carrier_ct\":7.54,\"weather_ct\":0,\"nas_ct\":1.03,\"security_ct\":0,\"late_aircraft_ct\":1.0,\"arr_cancelled\":0,\"arr_diverted\":0,\"arr_delay\":335,\"carrier_delay\":269,\"weather_delay\":23,\"nas_delay\":27,\"security_delay\":0,\"late_aircraft_delay\":16},{\"year\":2020,\"month\":12,\"carrier\":\"9E\",\"carrier_name\":\"Endeavor Air Inc.\",\"airport\":\"MBS\",\"airport_name\":\"Saginaw\\\\/Bay City\\\\/Midland, MI: MBS International\",\"arr_flights\":90,\"arr_del15\":15,\"carrier_ct\":4.59,\"weather_ct\":0,\"nas_ct\":9.03,\"security_ct\":0,\"late_aircraft_ct\":1.38,\"arr_cancelled\":0,\"arr_diverted\":0,\"arr_delay\":1281,\"carrier_delay\":841,\"weather_delay\":0,\"nas_delay\":305,\"security_delay\":0,\"late_aircraft_delay\":135},{\"year\":2020,\"month\":12,\"carrier\":\"9E\",\"carrier_name\":\"Endeavor Air Inc.\",\"airport\":\"MCI\",\"airport_name\":\"Kansas City, MO: Kansas City International\",\"arr_flights\":16,\"arr_del15\":0,\"carrier_ct\":0.0,\"weather_ct\":0,\"nas_ct\":0.0,\"security_ct\":0,\"late_aircraft_ct\":0.0,\"arr_cancelled\":0,\"arr_diverted\":0,\"arr_delay\":0,\"carrier_delay\":0,\"weather_delay\":0,\"nas_delay\":0,\"security_delay\":0,\"late_aircraft_delay\":0},{\"year\":2020,\"month\":12,\"carrier\":\"9E\",\"carrier_name\":\"Endeavor Air Inc.\",\"airport\":\"MCO\",\"airport_name\":\"Orlando, FL: Orlando International\",\"arr_flights\":62,\"arr_del15\":7,\"carrier_ct\":4.77,\"weather_ct\":0,\"nas_ct\":0.86,\"security_ct\":0,\"late_aircraft_ct\":1.37,\"arr_cancelled\":0,\"arr_diverted\":0,\"arr_delay\":757,\"carrier_delay\":588,\"weather_delay\":0,\"nas_delay\":40,\"security_delay\":0,\"late_aircraft_delay\":129},{\"year\":2020,\"month\":12,\"carrier\":\"9E\",\"carrier_name\":\"Endeavor Air Inc.\",\"airport\":\"MDT\",\"airport_name\":\"Harrisburg, PA: Harrisburg International\",\"arr_flights\":149,\"arr_del15\":10,\"carrier_ct\":0.93,\"weather_ct\":0,\"nas_ct\":4.99,\"security_ct\":0,\"late_aircraft_ct\":4.09,\"arr_cancelled\":2,\"arr_diverted\":0,\"arr_delay\":496,\"carrier_delay\":34,\"weather_delay\":0,\"nas_delay\":143,\"security_delay\":0,\"late_aircraft_delay\":319},{\"year\":2020,\"month\":12,\"carrier\":\"9E\",\"carrier_name\":\"Endeavor Air Inc.\",\"airport\":\"MEM\",\"airport_name\":\"Memphis, TN: Memphis International\",\"arr_flights\":118,\"arr_del15\":17,\"carrier_ct\":9.7,\"weather_ct\":0,\"nas_ct\":7.02,\"security_ct\":0,\"late_aircraft_ct\":0.29,\"arr_cancelled\":1,\"arr_diverted\":0,\"arr_delay\":786,\"carrier_delay\":554,\"weather_delay\":0,\"nas_delay\":224,\"security_delay\":0,\"late_aircraft_delay\":8},{\"year\":2020,\"month\":12,\"carrier\":\"9E\",\"carrier_name\":\"Endeavor Air Inc.\",\"airport\":\"MGM\",\"airport_name\":\"Montgomery, AL: Montgomery Regional\",\"arr_flights\":122,\"arr_del15\":14,\"carrier_ct\":10.75,\"weather_ct\":0,\"nas_ct\":2.25,\"security_ct\":1,\"late_aircraft_ct\":0.0,\"arr_cancelled\":0,\"arr_diverted\":1,\"arr_delay\":2066,\"carrier_delay\":1962,\"weather_delay\":0,\"nas_delay\":52,\"security_delay\":52,\"late_aircraft_delay\":0},{\"year\":2020,\"month\":12,\"carrier\":\"9E\",\"carrier_name\":\"Endeavor Air Inc.\",\"airport\":\"MIA\",\"airport_name\":\"Miami, FL: Miami International\",\"arr_flights\":4,\"arr_del15\":0,\"carrier_ct\":0.0,\"weather_ct\":0,\"nas_ct\":0.0,\"security_ct\":0,\"late_aircraft_ct\":0.0,\"arr_cancelled\":0,\"arr_diverted\":0,\"arr_delay\":0,\"carrier_delay\":0,\"weather_delay\":0,\"nas_delay\":0,\"security_delay\":0,\"late_aircraft_delay\":0},{\"year\":2020,\"month\":12,\"carrier\":\"9E\",\"carrier_name\":\"Endeavor Air Inc.\",\"airport\":\"MKE\",\"airport_name\":\"Milwaukee, WI: General Mitchell International\",\"arr_flights\":16,\"arr_del15\":3,\"carrier_ct\":1.0,\"weather_ct\":0,\"nas_ct\":2.0,\"security_ct\":0,\"late_aircraft_ct\":0.0,\"arr_cancelled\":0,\"arr_diverted\":0,\"arr_delay\":78,\"carrier_delay\":16,\"weather_delay\":0,\"nas_delay\":62,\"security_delay\":0,\"late_aircraft_delay\":0},{\"year\":2020,\"month\":12,\"carrier\":\"9E\",\"carrier_name\":\"Endeavor Air Inc.\",\"airport\":\"MLI\",\"airport_name\":\"Moline, IL: Quad City International\",\"arr_flights\":60,\"arr_del15\":4,\"carrier_ct\":1.37,\"weather_ct\":0,\"nas_ct\":2.0,\"security_ct\":0,\"late_aircraft_ct\":0.63,\"arr_cancelled\":0,\"arr_diverted\":1,\"arr_delay\":234,\"carrier_delay\":104,\"weather_delay\":0,\"nas_delay\":35,\"security_delay\":0,\"late_aircraft_delay\":95},{\"year\":2020,\"month\":12,\"carrier\":\"9E\",\"carrier_name\":\"Endeavor Air Inc.\",\"airport\":\"MLU\",\"airport_name\":\"Monroe, LA: Monroe Regional\",\"arr_flights\":87,\"arr_del15\":6,\"carrier_ct\":5.56,\"weather_ct\":0,\"nas_ct\":0.4,\"security_ct\":0,\"late_aircraft_ct\":0.04,\"arr_cancelled\":0,\"arr_diverted\":0,\"arr_delay\":276,\"carrier_delay\":244,\"weather_delay\":0,\"nas_delay\":29,\"security_delay\":0,\"late_aircraft_delay\":3},{\"year\":2020,\"month\":12,\"carrier\":\"9E\",\"carrier_name\":\"Endeavor Air Inc.\",\"airport\":\"MOB\",\"airport_name\":\"Mobile, AL: Mobile Regional\",\"arr_flights\":119,\"arr_del15\":8,\"carrier_ct\":7.07,\"weather_ct\":0,\"nas_ct\":0.32,\"security_ct\":0,\"late_aircraft_ct\":0.61,\"arr_cancelled\":0,\"arr_diverted\":1,\"arr_delay\":281,\"carrier_delay\":234,\"weather_delay\":0,\"nas_delay\":11,\"security_delay\":0,\"late_aircraft_delay\":36},{\"year\":2020,\"month\":12,\"carrier\":\"9E\",\"carrier_name\":\"Endeavor Air Inc.\",\"airport\":\"MOT\",\"airport_name\":\"Minot, ND: Minot International\",\"arr_flights\":145,\"arr_del15\":23,\"carrier_ct\":9.33,\"weather_ct\":0,\"nas_ct\":10.23,\"security_ct\":0,\"late_aircraft_ct\":3.44,\"arr_cancelled\":3,\"arr_diverted\":0,\"arr_delay\":1287,\"carrier_delay\":736,\"weather_delay\":0,\"nas_delay\":362,\"security_delay\":0,\"late_aircraft_delay\":189},{\"year\":2020,\"month\":12,\"carrier\":\"9E\",\"carrier_name\":\"Endeavor Air Inc.\",\"airport\":\"MSN\",\"airport_name\":\"Madison, WI: Dane County Regional-Truax Field\",\"arr_flights\":180,\"arr_del15\":13,\"carrier_ct\":3.0,\"weather_ct\":0,\"nas_ct\":5.15,\"security_ct\":0,\"late_aircraft_ct\":4.85,\"arr_cancelled\":1,\"arr_diverted\":1,\"arr_delay\":563,\"carrier_delay\":180,\"weather_delay\":0,\"nas_delay\":148,\"security_delay\":0,\"late_aircraft_delay\":235},{\"year\":2020,\"month\":12,\"carrier\":\"9E\",\"carrier_name\":\"Endeavor Air Inc.\",\"airport\":\"MSP\",\"airport_name\":\"Minneapolis, MN: Minneapolis-St Paul International\",\"arr_flights\":2244,\"arr_del15\":217,\"carrier_ct\":52.01,\"weather_ct\":14,\"nas_ct\":78.34,\"security_ct\":0,\"late_aircraft_ct\":72.68,\"arr_cancelled\":59,\"arr_diverted\":1,\"arr_delay\":19895,\"carrier_delay\":8074,\"weather_delay\":2922,\"nas_delay\":4085,\"security_delay\":0,\"late_aircraft_delay\":4814},{\"year\":2020,\"month\":12,\"carrier\":\"9E\",\"carrier_name\":\"Endeavor Air Inc.\",\"airport\":\"MSY\",\"airport_name\":\"New Orleans, LA: Louis Armstrong New Orleans International\",\"arr_flights\":1,\"arr_del15\":0,\"carrier_ct\":0.0,\"weather_ct\":0,\"nas_ct\":0.0,\"security_ct\":0,\"late_aircraft_ct\":0.0,\"arr_cancelled\":0,\"arr_diverted\":0,\"arr_delay\":0,\"carrier_delay\":0,\"weather_delay\":0,\"nas_delay\":0,\"security_delay\":0,\"late_aircraft_delay\":0},{\"year\":2020,\"month\":12,\"carrier\":\"9E\",\"carrier_name\":\"Endeavor Air Inc.\",\"airport\":\"MYR\",\"airport_name\":\"Myrtle Beach, SC: Myrtle Beach International\",\"arr_flights\":119,\"arr_del15\":6,\"carrier_ct\":3.0,\"weather_ct\":0,\"nas_ct\":3.0,\"security_ct\":0,\"late_aircraft_ct\":0.0,\"arr_cancelled\":0,\"arr_diverted\":0,\"arr_delay\":412,\"carrier_delay\":335,\"weather_delay\":0,\"nas_delay\":77,\"security_delay\":0,\"late_aircraft_delay\":0},{\"year\":2020,\"month\":12,\"carrier\":\"9E\",\"carrier_name\":\"Endeavor Air Inc.\",\"airport\":\"OAJ\",\"airport_name\":\"Jacksonville\\\\/Camp Lejeune, NC: Albert J Ellis\",\"arr_flights\":113,\"arr_del15\":5,\"carrier_ct\":1.75,\"weather_ct\":1,\"nas_ct\":0.4,\"security_ct\":0,\"late_aircraft_ct\":1.88,\"arr_cancelled\":0,\"arr_diverted\":1,\"arr_delay\":692,\"carrier_delay\":52,\"weather_delay\":562,\"nas_delay\":8,\"security_delay\":0,\"late_aircraft_delay\":70},{\"year\":2020,\"month\":12,\"carrier\":\"9E\",\"carrier_name\":\"Endeavor Air Inc.\",\"airport\":\"OKC\",\"airport_name\":\"Oklahoma City, OK: Will Rogers World\",\"arr_flights\":99,\"arr_del15\":10,\"carrier_ct\":5.81,\"weather_ct\":0,\"nas_ct\":3.06,\"security_ct\":0,\"late_aircraft_ct\":1.13,\"arr_cancelled\":0,\"arr_diverted\":0,\"arr_delay\":575,\"carrier_delay\":403,\"weather_delay\":0,\"nas_delay\":135,\"security_delay\":0,\"late_aircraft_delay\":37},{\"year\":2020,\"month\":12,\"carrier\":\"9E\",\"carrier_name\":\"Endeavor Air Inc.\",\"airport\":\"OMA\",\"airport_name\":\"Omaha, NE: Eppley Airfield\",\"arr_flights\":135,\"arr_del15\":18,\"carrier_ct\":5.21,\"weather_ct\":0,\"nas_ct\":9.88,\"security_ct\":0,\"late_aircraft_ct\":2.9,\"arr_cancelled\":0,\"arr_diverted\":1,\"arr_delay\":664,\"carrier_delay\":327,\"weather_delay\":0,\"nas_delay\":226,\"security_delay\":0,\"late_aircraft_delay\":111},{\"year\":2020,\"month\":12,\"carrier\":\"9E\",\"carrier_name\":\"Endeavor Air Inc.\",\"airport\":\"ORD\",\"airport_name\":\"Chicago, IL: Chicago O\\'Hare International\",\"arr_flights\":72,\"arr_del15\":4,\"carrier_ct\":0.0,\"weather_ct\":0,\"nas_ct\":4.0,\"security_ct\":0,\"late_aircraft_ct\":0.0,\"arr_cancelled\":1,\"arr_diverted\":0,\"arr_delay\":98,\"carrier_delay\":0,\"weather_delay\":0,\"nas_delay\":98,\"security_delay\":0,\"late_aircraft_delay\":0},{\"year\":2020,\"month\":12,\"carrier\":\"9E\",\"carrier_name\":\"Endeavor Air Inc.\",\"airport\":\"ORF\",\"airport_name\":\"Norfolk, VA: Norfolk International\",\"arr_flights\":90,\"arr_del15\":13,\"carrier_ct\":5.23,\"weather_ct\":0,\"nas_ct\":6.81,\"security_ct\":0,\"late_aircraft_ct\":0.96,\"arr_cancelled\":0,\"arr_diverted\":0,\"arr_delay\":677,\"carrier_delay\":310,\"weather_delay\":0,\"nas_delay\":228,\"security_delay\":0,\"late_aircraft_delay\":139},{\"year\":2020,\"month\":12,\"carrier\":\"9E\",\"carrier_name\":\"Endeavor Air Inc.\",\"airport\":\"PHL\",\"airport_name\":\"Philadelphia, PA: Philadelphia International\",\"arr_flights\":158,\"arr_del15\":19,\"carrier_ct\":4.63,\"weather_ct\":0,\"nas_ct\":10.44,\"security_ct\":0,\"late_aircraft_ct\":3.93,\"arr_cancelled\":2,\"arr_diverted\":1,\"arr_delay\":1274,\"carrier_delay\":405,\"weather_delay\":1,\"nas_delay\":483,\"security_delay\":0,\"late_aircraft_delay\":385},{\"year\":2020,\"month\":12,\"carrier\":\"9E\",\"carrier_name\":\"Endeavor Air Inc.\",\"airport\":\"PIT\",\"airport_name\":\"Pittsburgh, PA: Pittsburgh International\",\"arr_flights\":11,\"arr_del15\":3,\"carrier_ct\":1.0,\"weather_ct\":0,\"nas_ct\":0.03,\"security_ct\":0,\"late_aircraft_ct\":1.97,\"arr_cancelled\":0,\"arr_diverted\":0,\"arr_delay\":364,\"carrier_delay\":46,\"weather_delay\":0,\"nas_delay\":5,\"security_delay\":0,\"late_aircraft_delay\":313},{\"year\":2020,\"month\":12,\"carrier\":\"9E\",\"carrier_name\":\"Endeavor Air Inc.\",\"airport\":\"RAP\",\"airport_name\":\"Rapid City, SD: Rapid City Regional\",\"arr_flights\":12,\"arr_del15\":2,\"carrier_ct\":0.0,\"weather_ct\":0,\"nas_ct\":1.47,\"security_ct\":0,\"late_aircraft_ct\":0.53,\"arr_cancelled\":1,\"arr_diverted\":0,\"arr_delay\":31,\"carrier_delay\":0,\"weather_delay\":0,\"nas_delay\":23,\"security_delay\":0,\"late_aircraft_delay\":8},{\"year\":2020,\"month\":12,\"carrier\":\"9E\",\"carrier_name\":\"Endeavor Air Inc.\",\"airport\":\"RDU\",\"airport_name\":\"Raleigh\\\\/Durham, NC: Raleigh-Durham International\",\"arr_flights\":315,\"arr_del15\":42,\"carrier_ct\":15.78,\"weather_ct\":0,\"nas_ct\":15.59,\"security_ct\":0,\"late_aircraft_ct\":10.62,\"arr_cancelled\":5,\"arr_diverted\":0,\"arr_delay\":3182,\"carrier_delay\":1359,\"weather_delay\":0,\"nas_delay\":503,\"security_delay\":0,\"late_aircraft_delay\":1320},{\"year\":2020,\"month\":12,\"carrier\":\"9E\",\"carrier_name\":\"Endeavor Air Inc.\",\"airport\":\"RIC\",\"airport_name\":\"Richmond, VA: Richmond International\",\"arr_flights\":16,\"arr_del15\":1,\"carrier_ct\":0.88,\"weather_ct\":0,\"nas_ct\":0.12,\"security_ct\":0,\"late_aircraft_ct\":0.0,\"arr_cancelled\":0,\"arr_diverted\":0,\"arr_delay\":50,\"carrier_delay\":44,\"weather_delay\":0,\"nas_delay\":6,\"security_delay\":0,\"late_aircraft_delay\":0},{\"year\":2020,\"month\":12,\"carrier\":\"9E\",\"carrier_name\":\"Endeavor Air Inc.\",\"airport\":\"ROA\",\"airport_name\":\"Roanoke, VA: Roanoke Blacksburg Regional Woodrum Field\",\"arr_flights\":83,\"arr_del15\":4,\"carrier_ct\":3.0,\"weather_ct\":1,\"nas_ct\":0.0,\"security_ct\":0,\"late_aircraft_ct\":0.0,\"arr_cancelled\":0,\"arr_diverted\":0,\"arr_delay\":207,\"carrier_delay\":71,\"weather_delay\":136,\"nas_delay\":0,\"security_delay\":0,\"late_aircraft_delay\":0},{\"year\":2020,\"month\":12,\"carrier\":\"9E\",\"carrier_name\":\"Endeavor Air Inc.\",\"airport\":\"ROC\",\"airport_name\":\"Rochester, NY: Greater Rochester International\",\"arr_flights\":121,\"arr_del15\":18,\"carrier_ct\":4.61,\"weather_ct\":1,\"nas_ct\":9.52,\"security_ct\":0,\"late_aircraft_ct\":2.65,\"arr_cancelled\":1,\"arr_diverted\":0,\"arr_delay\":733,\"carrier_delay\":193,\"weather_delay\":140,\"nas_delay\":293,\"security_delay\":0,\"late_aircraft_delay\":107},{\"year\":2020,\"month\":12,\"carrier\":\"9E\",\"carrier_name\":\"Endeavor Air Inc.\",\"airport\":\"RST\",\"airport_name\":\"Rochester, MN: Rochester International\",\"arr_flights\":118,\"arr_del15\":14,\"carrier_ct\":5.18,\"weather_ct\":0,\"nas_ct\":6.96,\"security_ct\":0,\"late_aircraft_ct\":1.86,\"arr_cancelled\":3,\"arr_diverted\":0,\"arr_delay\":1455,\"carrier_delay\":895,\"weather_delay\":0,\"nas_delay\":299,\"security_delay\":0,\"late_aircraft_delay\":261}]'"
      ]
     },
     "execution_count": 20,
     "metadata": {},
     "output_type": "execute_result"
    }
   ],
   "source": [
    "json_data"
   ]
  },
  {
   "cell_type": "code",
   "execution_count": 21,
   "metadata": {},
   "outputs": [],
   "source": [
    "import os\n",
    "\n",
    "def get_api_key():\n",
    "    load_dotenv()\n",
    "    \n",
    "    api_key = os.getenv(\"GROQ_API_KEY\")\n",
    "    \n",
    "    return api_key"
   ]
  },
  {
   "cell_type": "code",
   "execution_count": 22,
   "metadata": {},
   "outputs": [],
   "source": [
    "api_key= get_api_key()"
   ]
  },
  {
   "cell_type": "code",
   "execution_count": 23,
   "metadata": {},
   "outputs": [],
   "source": [
    "model_name = \"llama-3.1-8b-instant\" "
   ]
  },
  {
   "cell_type": "code",
   "execution_count": 24,
   "metadata": {},
   "outputs": [],
   "source": [
    "from groq import Groq\n",
    "\n",
    "def query_data(json_data, question, model_name, api_key):\n",
    "    \n",
    "    client = Groq(api_key=api_key)\n",
    "    prompt = f\"Based on the following relational data, answer the question:\\n{json_data}\\nQuestion: {question}\"\n",
    "    chat_completion = client.chat.completions.create(\n",
    "        messages=[\n",
    "            {\"role\": \"system\", \"content\": \"You are a helpful assistant.\"},\n",
    "            {\"role\": \"user\", \"content\": prompt}\n",
    "        ],\n",
    "        model=model_name,\n",
    "    )\n",
    "    response = chat_completion.choices[0].message.content\n",
    "    return response"
   ]
  },
  {
   "cell_type": "code",
   "execution_count": 25,
   "metadata": {},
   "outputs": [],
   "source": [
    "question = \"Summarize the data\""
   ]
  },
  {
   "cell_type": "code",
   "execution_count": 29,
   "metadata": {},
   "outputs": [],
   "source": [
    "response = query_data(json_data=json_data,\n",
    "                      question=question,\n",
    "                      model_name=model_name,\n",
    "                      api_key=api_key)"
   ]
  },
  {
   "cell_type": "code",
   "execution_count": 30,
   "metadata": {},
   "outputs": [
    {
     "name": "stdout",
     "output_type": "stream",
     "text": [
      "The data provided represents a set of flight arrival records for passengers traveling on Endeavor Air Inc. within the United States during December 2020. The data captures flight information including arrival flights, on-time arrival records, and various factors that may contribute to flight delays such as carrier issues, weather, nationality and assimilation service (NAS) issues, and security checks.\n",
      "\n",
      "Key observations can be made from the data:\n",
      "\n",
      "1. **Total Arrivals**: The total number of flight arrivals for the month of December 2020 is 25,414. \n",
      "\n",
      "2. **Cities with most Flights**: The cities with the most flights during this period are Atlanta, Minneapolis, and Detroit for the airports ATL, MSP, and DTW respectively.\n",
      "\n",
      "3. **Arrival Delays**: The average arrival delay for Endeavor Air Inc. flights in December 2020 is around 365 minutes. This implies that flights experienced an average delay of approximately 6 hours.\n",
      "\n",
      "4. **Carrier vs. Weather vs. NAS Issues Delay minutes**: The average minutes lost to carrier issues, weather, and NAS issues per flight were 111, 23 and 28 respectively.\n",
      "\n",
      "5. **Most Delayed Airports**: The top most delayed airports in the order of highest delay minutes/s are: MSP, ATL, DTW, MSP, and ROC. However, please note airport code, I had previously identified as DEL and ROC as the delayed while above answer may not correctly imply it.\n",
      "\n",
      "6. **Longest Arrival Delay**: The longest arrival delay for any flight in the dataset was around 19976 minutes at the Minneapolis airport. However, this appears to be due to an outlier. \n",
      "\n",
      "7. **Late Arrivals Percentage**: Among the 25,414 flights, around 38.15% of flights experienced delays.\n"
     ]
    }
   ],
   "source": [
    "print(response)"
   ]
  },
  {
   "cell_type": "code",
   "execution_count": 31,
   "metadata": {},
   "outputs": [],
   "source": [
    "from fpdf import FPDF\n",
    "import uuid\n",
    "import os\n",
    "\n",
    "def generate_pdf(response, file_path):\n",
    "    \"\"\"Generate a PDF file with the given response text.\"\"\"\n",
    "    try:\n",
    "        # Create a PDF object\n",
    "        pdf = FPDF()\n",
    "        pdf.set_auto_page_break(auto=True, margin=15)\n",
    "        pdf.add_page()\n",
    "\n",
    "        # Title: Change color and font style\n",
    "        pdf.set_font(\"Arial\", 'B', 16)  # Bold font with size 16 for the title\n",
    "        pdf.set_text_color(0, 102, 204)  # Blue color for the title text\n",
    "        pdf.cell(200, 10, txt=\"Answer to the Question\", ln=True, align=\"C\")  # Centered title\n",
    "\n",
    "        pdf.ln(8)  # Add space after the title\n",
    "\n",
    "        # Response Body: Change color and font style\n",
    "        pdf.set_font(\"Arial\", size=12)  # Normal font for the body\n",
    "        pdf.set_text_color(0, 0, 0)  # Black color for the text\n",
    "\n",
    "        # Titles and corresponding body text\n",
    "        titles_and_responses = [\n",
    "            (\"Average Delay:\", \"394.56 minutes (approximately 6.57 hours)\"),\n",
    "            (\"Response Body:\", response),  # This can be any text passed as a response\n",
    "            (\"Next Title:\", \"Here is another section of content that follows the previous section.\")\n",
    "        ]\n",
    "\n",
    "        for title, content in titles_and_responses:\n",
    "            # Set the title in bold\n",
    "            pdf.set_font(\"Arial\", 'B', 12)  # Set bold font for the title\n",
    "            pdf.multi_cell(0, 10, title)  # Print the title in bold\n",
    "\n",
    "            # Set the content in normal font\n",
    "            pdf.set_font(\"Arial\", '', 12)  # Set normal font for the content\n",
    "            pdf.multi_cell(0, 10, content)  # Print the content of the response\n",
    "\n",
    "            pdf.ln(5)  # Add some space between sections\n",
    "\n",
    "        # Add a footer with different text\n",
    "        pdf.ln(10)  # Add space for the footer\n",
    "        pdf.set_font(\"Arial\", 'I', 10)  # Italic font for the footer\n",
    "        pdf.set_text_color(128, 128, 128)  # Gray color for footer text\n",
    "        pdf.cell(200, 10, txt=\"This document was generated automatically.\", ln=True, align=\"C\")\n",
    "\n",
    "        # Save the file to the given path\n",
    "        pdf.output(file_path)\n",
    "        return file_path  # Return the path where the PDF was saved\n",
    "\n",
    "    except Exception as e:\n",
    "        print(f\"Error generating PDF: {e}\")\n",
    "        return None  # Return None in case of an error\n",
    "\n",
    "def generate_pdf_and_save(answer):\n",
    "    \"\"\"Create a PDF and save it in the 'responses' folder with sequential filenames.\"\"\"\n",
    "    try:\n",
    "        # Ensure the 'responses' directory exists\n",
    "        if not os.path.exists(\"responses\"):\n",
    "            os.makedirs(\"responses\", exist_ok=True)  # Avoid error if folder already exists\n",
    "\n",
    "        # Get the list of existing PDF files in the 'responses' directory\n",
    "        existing_files = [f for f in os.listdir(\"responses\") if f.startswith(\"response_\") and f.endswith(\".pdf\")]\n",
    "\n",
    "        # Generate the next sequential number for the filename\n",
    "        next_index = len(existing_files) + 1\n",
    "        unique_filename = f\"responses/response_{next_index:02d}.pdf\"  # Formats as response_01.pdf, response_02.pdf, etc.\n",
    "\n",
    "        # Generate and save the PDF\n",
    "        generated_pdf_path = generate_pdf(answer, unique_filename)\n",
    "\n",
    "        if generated_pdf_path:\n",
    "            return generated_pdf_path  # Return the path of the saved PDF\n",
    "        else:\n",
    "            print(\"Failed to generate PDF.\")\n",
    "            return None  # In case of failure\n",
    "\n",
    "    except Exception as e:\n",
    "        print(f\"Error saving PDF: {e}\")\n",
    "        return None  # Return None if there was an error in the process\n"
   ]
  },
  {
   "cell_type": "code",
   "execution_count": 32,
   "metadata": {},
   "outputs": [
    {
     "name": "stdout",
     "output_type": "stream",
     "text": [
      "Le PDF a été sauvegardé avec succès à : responses/response_01.pdf\n"
     ]
    }
   ],
   "source": [
    "saved_pdf_path = generate_pdf_and_save(response)\n",
    "\n",
    "if saved_pdf_path:\n",
    "    print(f\"Le PDF a été sauvegardé avec succès à : {saved_pdf_path}\")\n",
    "else:\n",
    "    print(\"Une erreur est survenue lors de la génération du PDF.\")"
   ]
  },
  {
   "cell_type": "code",
   "execution_count": null,
   "metadata": {},
   "outputs": [],
   "source": []
  }
 ],
 "metadata": {
  "kernelspec": {
   "display_name": "llm",
   "language": "python",
   "name": "python3"
  },
  "language_info": {
   "codemirror_mode": {
    "name": "ipython",
    "version": 3
   },
   "file_extension": ".py",
   "mimetype": "text/x-python",
   "name": "python",
   "nbconvert_exporter": "python",
   "pygments_lexer": "ipython3",
   "version": "3.10.14"
  }
 },
 "nbformat": 4,
 "nbformat_minor": 2
}
